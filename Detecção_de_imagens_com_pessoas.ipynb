{
  "nbformat": 4,
  "nbformat_minor": 0,
  "metadata": {
    "colab": {
      "name": "Detecção de imagens com pessoas.ipynb",
      "provenance": [],
      "collapsed_sections": []
    },
    "kernelspec": {
      "name": "python3",
      "display_name": "Python 3"
    },
    "accelerator": "GPU"
  },
  "cells": [
    {
      "cell_type": "code",
      "metadata": {
        "id": "jntGh55UIE0E",
        "colab_type": "code",
        "colab": {
          "base_uri": "https://localhost:8080/",
          "height": 128
        },
        "outputId": "536efcdd-4148-40ce-aa7a-29c7a822b0b3"
      },
      "source": [
        "from google.colab import drive\n",
        "drive.mount('/content/drive')"
      ],
      "execution_count": 15,
      "outputs": [
        {
          "output_type": "stream",
          "text": [
            "Go to this URL in a browser: https://accounts.google.com/o/oauth2/auth?client_id=947318989803-6bn6qk8qdgf4n4g3pfee6491hc0brc4i.apps.googleusercontent.com&redirect_uri=urn%3Aietf%3Awg%3Aoauth%3A2.0%3Aoob&scope=email%20https%3A%2F%2Fwww.googleapis.com%2Fauth%2Fdocs.test%20https%3A%2F%2Fwww.googleapis.com%2Fauth%2Fdrive%20https%3A%2F%2Fwww.googleapis.com%2Fauth%2Fdrive.photos.readonly%20https%3A%2F%2Fwww.googleapis.com%2Fauth%2Fpeopleapi.readonly&response_type=code\n",
            "\n",
            "Enter your authorization code:\n",
            "··········\n",
            "Mounted at /content/drive\n"
          ],
          "name": "stdout"
        }
      ]
    },
    {
      "cell_type": "code",
      "metadata": {
        "id": "CvBbVfp5JetA",
        "colab_type": "code",
        "colab": {}
      },
      "source": [
        "!ln -s /content/drive/My\\ Drive/People_Detection/dadosImagem /content/Aula"
      ],
      "execution_count": 0,
      "outputs": []
    },
    {
      "cell_type": "code",
      "metadata": {
        "id": "gwhX8ugBJ8J8",
        "colab_type": "code",
        "colab": {
          "base_uri": "https://localhost:8080/",
          "height": 35
        },
        "outputId": "3274a8f1-c488-4c3d-f3ef-1f7cd3f2b518"
      },
      "source": [
        "!ls Aula/Teste"
      ],
      "execution_count": 17,
      "outputs": [
        {
          "output_type": "stream",
          "text": [
            "negativos  positivos\n"
          ],
          "name": "stdout"
        }
      ]
    },
    {
      "cell_type": "code",
      "metadata": {
        "id": "OxfVHG8rTQ69",
        "colab_type": "code",
        "colab": {
          "base_uri": "https://localhost:8080/",
          "height": 35
        },
        "outputId": "0d65c01b-4979-4d21-f28d-bcd0b031c055"
      },
      "source": [
        "!pip uninstall opencv-python -y"
      ],
      "execution_count": 18,
      "outputs": [
        {
          "output_type": "stream",
          "text": [
            "\u001b[33mWARNING: Skipping opencv-python as it is not installed.\u001b[0m\n"
          ],
          "name": "stdout"
        }
      ]
    },
    {
      "cell_type": "code",
      "metadata": {
        "id": "UPHU0pPVTwv4",
        "colab_type": "code",
        "colab": {
          "base_uri": "https://localhost:8080/",
          "height": 472
        },
        "outputId": "b45f3e8d-3983-4da1-f341-7bd1b8a6ed4b"
      },
      "source": [
        "!pip install opencv-contrib-python==3.4.2.17 --force-reinstall"
      ],
      "execution_count": 19,
      "outputs": [
        {
          "output_type": "stream",
          "text": [
            "Collecting opencv-contrib-python==3.4.2.17\n",
            "  Using cached https://files.pythonhosted.org/packages/61/29/fc60b2de1713aa92946992544329f20ccb5e4ba26290f403e04b7da44105/opencv_contrib_python-3.4.2.17-cp36-cp36m-manylinux1_x86_64.whl\n",
            "Collecting numpy>=1.11.3\n",
            "  Using cached https://files.pythonhosted.org/packages/d2/ab/43e678759326f728de861edbef34b8e2ad1b1490505f20e0d1f0716c3bf4/numpy-1.17.4-cp36-cp36m-manylinux1_x86_64.whl\n",
            "\u001b[31mERROR: tensor2tensor 1.14.1 requires opencv-python, which is not installed.\u001b[0m\n",
            "\u001b[31mERROR: stable-baselines 2.2.1 requires opencv-python, which is not installed.\u001b[0m\n",
            "\u001b[31mERROR: imgaug 0.2.9 requires opencv-python, which is not installed.\u001b[0m\n",
            "\u001b[31mERROR: dopamine-rl 1.0.5 requires opencv-python>=3.4.1.15, which is not installed.\u001b[0m\n",
            "\u001b[31mERROR: albumentations 0.1.12 requires opencv-python, which is not installed.\u001b[0m\n",
            "\u001b[31mERROR: datascience 0.10.6 has requirement folium==0.2.1, but you'll have folium 0.8.3 which is incompatible.\u001b[0m\n",
            "\u001b[31mERROR: albumentations 0.1.12 has requirement imgaug<0.2.7,>=0.2.5, but you'll have imgaug 0.2.9 which is incompatible.\u001b[0m\n",
            "Installing collected packages: numpy, opencv-contrib-python\n",
            "  Found existing installation: numpy 1.17.4\n",
            "    Uninstalling numpy-1.17.4:\n",
            "      Successfully uninstalled numpy-1.17.4\n",
            "  Found existing installation: opencv-contrib-python 3.4.2.17\n",
            "    Uninstalling opencv-contrib-python-3.4.2.17:\n",
            "      Successfully uninstalled opencv-contrib-python-3.4.2.17\n",
            "Successfully installed numpy-1.17.4 opencv-contrib-python-3.4.2.17\n"
          ],
          "name": "stdout"
        },
        {
          "output_type": "display_data",
          "data": {
            "application/vnd.colab-display-data+json": {
              "pip_warning": {
                "packages": [
                  "cv2",
                  "numpy"
                ]
              }
            }
          },
          "metadata": {
            "tags": []
          }
        }
      ]
    },
    {
      "cell_type": "code",
      "metadata": {
        "id": "esaV6w4vY6eO",
        "colab_type": "code",
        "colab": {}
      },
      "source": [
        "import cv2\n",
        "\n",
        "def get_SIFT_descritores(img_caminho):\n",
        "    \n",
        "    LARGURA = 360\n",
        "    ALTURA = 360\n",
        "    \n",
        "    # Ler a imgem\n",
        "    img_teste = cv2.imread(img_caminho, 0)\n",
        "    \n",
        "    #Redimensionar\n",
        "    img_redimensionada = cv2.resize(img_teste, (LARGURA, ALTURA), interpolation=cv2.INTER_CUBIC)\n",
        "    \n",
        "    # Remover ruídos\n",
        "    img_equalizada = cv2.equalizeHist(img_redimensionada)\n",
        "    img_suavizada = cv2.GaussianBlur(img_equalizada, (9,9), 1)\n",
        "    \n",
        "    #Detectar pontos chaves\n",
        "    sift = cv2.xfeatures2d.SIFT_create(nfeatures=512)\n",
        "    pontos_chave = sift.detect(img_suavizada, None)\n",
        "    \n",
        "    pontos_chave, descritores = sift.compute(img_suavizada, pontos_chave)\n",
        "    \n",
        "    return descritores"
      ],
      "execution_count": 0,
      "outputs": []
    },
    {
      "cell_type": "code",
      "metadata": {
        "id": "qdItfKRmZ3mt",
        "colab_type": "code",
        "colab": {}
      },
      "source": [
        "from sklearn.cluster import KMeans\n",
        "from sklearn.neighbors import NearestNeighbors\n",
        "import os\n",
        "import numpy as np"
      ],
      "execution_count": 0,
      "outputs": []
    },
    {
      "cell_type": "code",
      "metadata": {
        "id": "U3ans6_DZ1t-",
        "colab_type": "code",
        "colab": {}
      },
      "source": [
        "QUANTIDADE_PALAVRAS_VIRTUAIS = 128\n",
        "\n",
        "class PacoteDePalavras:\n",
        "    \n",
        "    def gerar_dicionario(self, lista_descritores):\n",
        "        kmeans = KMeans(n_clusters = QUANTIDADE_PALAVRAS_VIRTUAIS)\n",
        "        kmenas = kmeans.fit(lista_descritores)\n",
        "        self.dicionario = kmeans.cluster_centers_\n",
        "        \n",
        "    def histograma_de_frequencia(self, descritor):\n",
        "\n",
        "        try:\n",
        "            algoritmo_knn = NearestNeighbors(n_neighbors = 1)\n",
        "            algoritmo_knn.fit(self.dicionario)\n",
        "            mais_proximos = algoritmo_knn.kneighbors(descritor, return_distance = False).flatten()\n",
        "\n",
        "            histograma_caracteristica = np.histogram(mais_proximos, bins=np.arange(self.dicionario.shape[0]+1))[0]\n",
        "        \n",
        "            return histograma_caracteristica\n",
        "        except AttributeError:\n",
        "            print(\"O atributo dicionario nao foi definido\")\n",
        "            \n",
        "    def salvar_dicionario(self, caminho='', nome_dicionario = 'dicionario.csv'):\n",
        "        try:\n",
        "            np.savetxt(os.path.join(caminho, nome_dicionario), self.dicionario, delimiter=',', fmt='%f')\n",
        "            print(\"Dicionario salvo\")\n",
        "            \n",
        "        except AttributeError:\n",
        "            print(\"Dicionario Vazio\")\n",
        "\n",
        "    def carregar_dicionario(self, caminho='', nome_dicionario = 'dicionario.csv'):\n",
        "\n",
        "        self.dicionario = np.loadtxt(os.path.join(caminho,nome_dicionario), delimiter=',')"
      ],
      "execution_count": 0,
      "outputs": []
    },
    {
      "cell_type": "code",
      "metadata": {
        "id": "TqQlKPWOoK95",
        "colab_type": "code",
        "colab": {}
      },
      "source": [
        "def arquivo_diretorio(caminho):\n",
        "\n",
        "    for raiz,diretorios,arquivos in os.walk(caminho):\n",
        "        for arquivo in arquivos:\n",
        "            if arquivo.endswith('.png'):\n",
        "                yield arquivo"
      ],
      "execution_count": 0,
      "outputs": []
    },
    {
      "cell_type": "code",
      "metadata": {
        "id": "pQMW0wAAno1I",
        "colab_type": "code",
        "colab": {}
      },
      "source": [
        "DICIONARIO_NOME = 'dicionario.csv'\n",
        "dados_treinamento = ['Aula/Treinamento/positivos/', 'Aula/Treinamento/negativos']\n",
        "\n",
        "# Rotina para criação do dicionario de palavras virtuais\n",
        "\n",
        "descritores = np.empty((0,128), dtype=np.uint8)\n",
        "\n",
        "for caminho in dados_treinamento:\n",
        "\n",
        "    for arquivo in arquivo_diretorio(caminho):\n",
        "        sift_descritor = get_SIFT_descritores(os.path.join(caminho,arquivo))\n",
        "        descritores = np.append(descritores, sift_descritor, axis=0)\n",
        "                \n",
        "img_representacao = PacoteDePalavras()\n",
        "img_representacao.gerar_dicionario(descritores)\n",
        "img_representacao.salvar_dicionario('Aula/', DICIONARIO_NOME)"
      ],
      "execution_count": 0,
      "outputs": []
    }
  ]
}