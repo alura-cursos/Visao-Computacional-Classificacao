{
  "nbformat": 4,
  "nbformat_minor": 0,
  "metadata": {
    "colab": {
      "name": "Detecção de imagens com pessoas.ipynb",
      "provenance": [],
      "collapsed_sections": []
    },
    "kernelspec": {
      "name": "python3",
      "display_name": "Python 3"
    },
    "accelerator": "GPU"
  },
  "cells": [
    {
      "cell_type": "code",
      "metadata": {
        "id": "jntGh55UIE0E",
        "colab_type": "code",
        "outputId": "f12bbcfe-421e-440c-b9ec-76d41da37f69",
        "colab": {
          "base_uri": "https://localhost:8080/",
          "height": 54
        }
      },
      "source": [
        "from google.colab import drive\n",
        "drive.mount('/content/drive')"
      ],
      "execution_count": 59,
      "outputs": [
        {
          "output_type": "stream",
          "text": [
            "Drive already mounted at /content/drive; to attempt to forcibly remount, call drive.mount(\"/content/drive\", force_remount=True).\n"
          ],
          "name": "stdout"
        }
      ]
    },
    {
      "cell_type": "code",
      "metadata": {
        "id": "CvBbVfp5JetA",
        "colab_type": "code",
        "colab": {}
      },
      "source": [
        "!ln -s /content/drive/My\\ Drive/People_Detection/dadosImagem /content/Aula"
      ],
      "execution_count": 0,
      "outputs": []
    },
    {
      "cell_type": "code",
      "metadata": {
        "id": "gwhX8ugBJ8J8",
        "colab_type": "code",
        "outputId": "6bd39e5f-2401-4895-bc71-e3cae16c25dd",
        "colab": {
          "base_uri": "https://localhost:8080/",
          "height": 35
        }
      },
      "source": [
        "!ls Aula/Teste"
      ],
      "execution_count": 0,
      "outputs": [
        {
          "output_type": "stream",
          "text": [
            "negativos  positivos\n"
          ],
          "name": "stdout"
        }
      ]
    },
    {
      "cell_type": "code",
      "metadata": {
        "id": "OxfVHG8rTQ69",
        "colab_type": "code",
        "outputId": "9aeb3b5a-01b8-4fd3-aff2-ad533269f14b",
        "colab": {
          "base_uri": "https://localhost:8080/",
          "height": 54
        }
      },
      "source": [
        "!pip uninstall opencv-python -y"
      ],
      "execution_count": 0,
      "outputs": [
        {
          "output_type": "stream",
          "text": [
            "Uninstalling opencv-python-3.4.7.28:\n",
            "  Successfully uninstalled opencv-python-3.4.7.28\n"
          ],
          "name": "stdout"
        }
      ]
    },
    {
      "cell_type": "code",
      "metadata": {
        "id": "UPHU0pPVTwv4",
        "colab_type": "code",
        "outputId": "b741422f-e142-479f-cbf8-4f23fe2fae42",
        "colab": {
          "base_uri": "https://localhost:8080/",
          "height": 508
        }
      },
      "source": [
        "!pip install opencv-contrib-python==3.4.2.17 --force-reinstall"
      ],
      "execution_count": 0,
      "outputs": [
        {
          "output_type": "stream",
          "text": [
            "Collecting opencv-contrib-python==3.4.2.17\n",
            "\u001b[?25l  Downloading https://files.pythonhosted.org/packages/61/29/fc60b2de1713aa92946992544329f20ccb5e4ba26290f403e04b7da44105/opencv_contrib_python-3.4.2.17-cp36-cp36m-manylinux1_x86_64.whl (30.6MB)\n",
            "\u001b[K     |████████████████████████████████| 30.6MB 20.2MB/s \n",
            "\u001b[?25hCollecting numpy>=1.11.3\n",
            "\u001b[?25l  Downloading https://files.pythonhosted.org/packages/d2/ab/43e678759326f728de861edbef34b8e2ad1b1490505f20e0d1f0716c3bf4/numpy-1.17.4-cp36-cp36m-manylinux1_x86_64.whl (20.0MB)\n",
            "\u001b[K     |████████████████████████████████| 20.0MB 177kB/s \n",
            "\u001b[31mERROR: tensor2tensor 1.14.1 requires opencv-python, which is not installed.\u001b[0m\n",
            "\u001b[31mERROR: stable-baselines 2.2.1 requires opencv-python, which is not installed.\u001b[0m\n",
            "\u001b[31mERROR: imgaug 0.2.9 requires opencv-python, which is not installed.\u001b[0m\n",
            "\u001b[31mERROR: dopamine-rl 1.0.5 requires opencv-python>=3.4.1.15, which is not installed.\u001b[0m\n",
            "\u001b[31mERROR: albumentations 0.1.12 requires opencv-python, which is not installed.\u001b[0m\n",
            "\u001b[31mERROR: datascience 0.10.6 has requirement folium==0.2.1, but you'll have folium 0.8.3 which is incompatible.\u001b[0m\n",
            "\u001b[31mERROR: albumentations 0.1.12 has requirement imgaug<0.2.7,>=0.2.5, but you'll have imgaug 0.2.9 which is incompatible.\u001b[0m\n",
            "\u001b[?25hInstalling collected packages: numpy, opencv-contrib-python\n",
            "  Found existing installation: numpy 1.17.3\n",
            "    Uninstalling numpy-1.17.3:\n",
            "      Successfully uninstalled numpy-1.17.3\n",
            "  Found existing installation: opencv-contrib-python 3.4.3.18\n",
            "    Uninstalling opencv-contrib-python-3.4.3.18:\n",
            "      Successfully uninstalled opencv-contrib-python-3.4.3.18\n",
            "Successfully installed numpy-1.17.4 opencv-contrib-python-3.4.2.17\n"
          ],
          "name": "stdout"
        },
        {
          "output_type": "display_data",
          "data": {
            "application/vnd.colab-display-data+json": {
              "pip_warning": {
                "packages": [
                  "numpy"
                ]
              }
            }
          },
          "metadata": {
            "tags": []
          }
        }
      ]
    },
    {
      "cell_type": "code",
      "metadata": {
        "id": "esaV6w4vY6eO",
        "colab_type": "code",
        "colab": {}
      },
      "source": [
        "import cv2\n",
        "\n",
        "class Descritor:\n",
        "\n",
        "    @staticmethod\n",
        "    def get_SIFT_descritores(img_caminho):\n",
        "        \n",
        "        LARGURA = 360\n",
        "        ALTURA = 360\n",
        "        \n",
        "        # Ler a imgem\n",
        "        img_teste = cv2.imread(img_caminho, 0)\n",
        "        \n",
        "        #Redimensionar\n",
        "        img_redimensionada = cv2.resize(img_teste, (LARGURA, ALTURA), interpolation=cv2.INTER_CUBIC)\n",
        "        \n",
        "        # Remover ruídos\n",
        "        img_equalizada = cv2.equalizeHist(img_redimensionada)\n",
        "        img_suavizada = cv2.GaussianBlur(img_equalizada, (9,9), 1)\n",
        "        \n",
        "        #Detectar pontos chaves\n",
        "        sift = cv2.xfeatures2d.SIFT_create(nfeatures=512)\n",
        "        pontos_chave = sift.detect(img_suavizada, None)\n",
        "        \n",
        "        pontos_chave, descritores = sift.compute(img_suavizada, pontos_chave)\n",
        "        \n",
        "        return descritores\n",
        "\n",
        "    @staticmethod\n",
        "    def salvar_descritor(descritor, caminho, nome_arquivo):\n",
        "        descritor = descritor.reshape((1,descritor.size))\n",
        "        arquivo = open(os.path.join(caminho, nome_arquivo), 'a')\n",
        "        np.savetxt(arquivo, descritor, delimiter=',', fmt='%i')\n",
        "        arquivo.close()\n",
        "    \n",
        "    @staticmethod\n",
        "    def carregar_descritores(caminho, nome_arquivo='orb_descritor.csv'):\n",
        "        descritores = np.loadtxt(os.path.join(caminho, nome_arquivo), delimiter=',')\n",
        "        print('formato do array de descritores: ', descritores.shape)\n",
        "        return descritores"
      ],
      "execution_count": 0,
      "outputs": []
    },
    {
      "cell_type": "code",
      "metadata": {
        "id": "qdItfKRmZ3mt",
        "colab_type": "code",
        "colab": {}
      },
      "source": [
        "from sklearn.cluster import KMeans\n",
        "from sklearn.neighbors import NearestNeighbors\n",
        "import os\n",
        "import numpy as np"
      ],
      "execution_count": 0,
      "outputs": []
    },
    {
      "cell_type": "code",
      "metadata": {
        "id": "U3ans6_DZ1t-",
        "colab_type": "code",
        "colab": {}
      },
      "source": [
        "QUANTIDADE_PALAVRAS_VIRTUAIS = 128\n",
        "\n",
        "class PacoteDePalavras:\n",
        "    \n",
        "    def gerar_dicionario(self, lista_descritores):\n",
        "        kmeans = KMeans(n_clusters = QUANTIDADE_PALAVRAS_VIRTUAIS)\n",
        "        kmenas = kmeans.fit(lista_descritores)\n",
        "        self.dicionario = kmeans.cluster_centers_\n",
        "        \n",
        "    def histograma_de_frequencia(self, descritor):\n",
        "\n",
        "        try:\n",
        "            algoritmo_knn = NearestNeighbors(n_neighbors = 1)\n",
        "            algoritmo_knn.fit(self.dicionario)\n",
        "            mais_proximos = algoritmo_knn.kneighbors(descritor, return_distance = False).flatten()\n",
        "\n",
        "            histograma_caracteristica = np.histogram(mais_proximos, bins=np.arange(self.dicionario.shape[0]+1))[0]\n",
        "        \n",
        "            return histograma_caracteristica\n",
        "        except AttributeError:\n",
        "            print(\"O atributo dicionario nao foi definido\")\n",
        "            \n",
        "    def salvar_dicionario(self, caminho='', nome_dicionario = 'dicionario.csv'):\n",
        "        try:\n",
        "            np.savetxt(os.path.join(caminho, nome_dicionario), self.dicionario, delimiter=',', fmt='%f')\n",
        "            print(\"Dicionario salvo\")\n",
        "            \n",
        "        except AttributeError:\n",
        "            print(\"Dicionario Vazio\")\n",
        "\n",
        "    def carregar_dicionario(self, caminho='', nome_dicionario = 'dicionario.csv'):\n",
        "\n",
        "        self.dicionario = np.loadtxt(os.path.join(caminho,nome_dicionario), delimiter=',')\n",
        "    "
      ],
      "execution_count": 0,
      "outputs": []
    },
    {
      "cell_type": "code",
      "metadata": {
        "id": "TqQlKPWOoK95",
        "colab_type": "code",
        "colab": {}
      },
      "source": [
        "def arquivo_diretorio(caminho):\n",
        "\n",
        "    for raiz,diretorios,arquivos in os.walk(caminho):\n",
        "        for arquivo in arquivos:\n",
        "            if arquivo.endswith('.png'):\n",
        "                yield arquivo"
      ],
      "execution_count": 0,
      "outputs": []
    },
    {
      "cell_type": "code",
      "metadata": {
        "id": "pQMW0wAAno1I",
        "colab_type": "code",
        "colab": {}
      },
      "source": [
        "DICIONARIO_NOME = 'dicionario.csv'\n",
        "dados_treinamento = ['Aula/Treinamento/positivos/', 'Aula/Treinamento/negativos']\n",
        "\n",
        "# Rotina para criação do dicionario de palavras virtuais\n",
        "\n",
        "descritores = np.empty((0,128), dtype=np.uint8)\n",
        "\n",
        "for caminho in dados_treinamento:\n",
        "\n",
        "    for arquivo in arquivo_diretorio(caminho):\n",
        "        sift_descritor = Descritor.get_SIFT_descritores(os.path.join(caminho,arquivo))\n",
        "        descritores = np.append(descritores, sift_descritor, axis=0)\n",
        "                \n",
        "img_representacao = PacoteDePalavras()\n",
        "img_representacao.gerar_dicionario(descritores)\n",
        "img_representacao.salvar_dicionario('Aula/', DICIONARIO_NOME)"
      ],
      "execution_count": 0,
      "outputs": []
    },
    {
      "cell_type": "code",
      "metadata": {
        "id": "lHdg4pXLxyhO",
        "colab_type": "code",
        "colab": {}
      },
      "source": [
        "DICIONARIO_NOME = 'dicionario.csv'\n",
        "img_representacao = PacoteDePalavras()\n",
        "img_representacao.carregar_dicionario('Aula/', DICIONARIO_NOME)"
      ],
      "execution_count": 0,
      "outputs": []
    },
    {
      "cell_type": "code",
      "metadata": {
        "id": "aY5qaUTVzpTL",
        "colab_type": "code",
        "outputId": "144a50d0-0bae-4c57-c419-4e9fc939947d",
        "colab": {
          "base_uri": "https://localhost:8080/",
          "height": 35
        }
      },
      "source": [
        "NOME_DESCRITOR = 'sift_descritor.csv'\n",
        "\n",
        "for caminho in dados_treinamento:\n",
        "\n",
        "    caminho_descritor = os.path.join(caminho, NOME_DESCRITOR)\n",
        "    if os.path.exists(caminho_descritor):\n",
        "        os.remove(caminho_descritor)\n",
        "\n",
        "    for arquivo in arquivo_diretorio(caminho):\n",
        "        descritor = Descritor.get_SIFT_descritores(os.path.join(caminho, arquivo))\n",
        "        histograma_descritor = img_representacao.histograma_de_frequencia(descritor)\n",
        "        Descritor.salvar_descritor(histograma_descritor, caminho, NOME_DESCRITOR)\n",
        "                \n",
        "print(\"extração de caracteriscas finalizada e descritores salvos!\")"
      ],
      "execution_count": 0,
      "outputs": [
        {
          "output_type": "stream",
          "text": [
            "estração de caracteriscas finalizada e descritores salvos!\n"
          ],
          "name": "stdout"
        }
      ]
    },
    {
      "cell_type": "code",
      "metadata": {
        "id": "MIeD7yCr0apd",
        "colab_type": "code",
        "outputId": "ef23918f-e1bf-4cde-f0d3-c824267c225f",
        "colab": {
          "base_uri": "https://localhost:8080/",
          "height": 52
        }
      },
      "source": [
        "descritores_treinamento = np.empty((0,QUANTIDADE_PALAVRAS_VIRTUAIS))\n",
        "\n",
        "for caminho in dados_treinamento:\n",
        "    descritores_treinamento = np.append(descritores_treinamento, Descritor.carregar_descritores(caminho,NOME_DESCRITOR), axis=0)"
      ],
      "execution_count": 81,
      "outputs": [
        {
          "output_type": "stream",
          "text": [
            "formato do array de descritores:  (400, 128)\n",
            "formato do array de descritores:  (400, 128)\n"
          ],
          "name": "stdout"
        }
      ]
    },
    {
      "cell_type": "code",
      "metadata": {
        "id": "ttq4slhKFPax",
        "colab_type": "code",
        "colab": {}
      },
      "source": [
        "QUANTIDADE_DADOS_TREINAMENTO = 400\n",
        "QUANTIDADE_DADOS_TESTE = 100\n",
        "rotulos_treinamento = np.concatenate((np.ones(QUANTIDADE_DADOS_TREINAMENTO, dtype=np.uint8),np.zeros(QUANTIDADE_DADOS_TREINAMENTO, dtype=np.uint8)))\n",
        "rotulos_teste = np.concatenate((np.ones(QUANTIDADE_DADOS_TESTE, dtype=np.uint8), np.zeros(QUANTIDADE_DADOS_TESTE, dtype=np.uint8)))"
      ],
      "execution_count": 0,
      "outputs": []
    },
    {
      "cell_type": "code",
      "metadata": {
        "id": "7S3OELcDHDIh",
        "colab_type": "code",
        "colab": {
          "base_uri": "https://localhost:8080/",
          "height": 34
        },
        "outputId": "9afc2248-6d8a-4bc3-844f-111097571ca6"
      },
      "source": [
        "dados_teste = ['Aula/Teste/positivos/', 'Aula/Teste/negativos/']\n",
        "\n",
        "descritores_teste = np.empty((0,QUANTIDADE_PALAVRAS_VIRTUAIS), dtype=np.uint8)\n",
        "\n",
        "for caminho in dados_teste:\n",
        "    \n",
        "    for arquivo in arquivo_diretorio(caminho):\n",
        "        img_descritor = Descritor.get_SIFT_descritores(os.path.join(caminho,arquivo))\n",
        "        img_descritor = img_representacao.histograma_de_frequencia(img_descritor)\n",
        "        img_dim_expandida = np.expand_dims(img_descritor, axis=0)\n",
        "        descritores_teste = np.append(descritores_teste, img_dim_expandida, axis=0)\n",
        "print(\"extração descritores teste finalizada\")"
      ],
      "execution_count": 28,
      "outputs": [
        {
          "output_type": "stream",
          "text": [
            "extração descritores teste finalizada\n"
          ],
          "name": "stdout"
        }
      ]
    },
    {
      "cell_type": "code",
      "metadata": {
        "id": "ni39WUewIN1-",
        "colab_type": "code",
        "colab": {
          "base_uri": "https://localhost:8080/",
          "height": 140
        },
        "outputId": "be3dcf8b-f8ca-4ac4-8592-5fc329588afa"
      },
      "source": [
        "print(rotulos_teste[150])\n",
        "print(descritores_teste[150])"
      ],
      "execution_count": 31,
      "outputs": [
        {
          "output_type": "stream",
          "text": [
            "0\n",
            "[ 2  4  5  2  7  7  7 11  2  4  1  3  6  5  1  1  1  1  0  2  4  7  4  2\n",
            "  3  7  4  3  1  4  4  8  1  2  3  2  2  1  2  7  7  5  3  6  6  9  5  6\n",
            "  2  5  8  0  2  4  1  8  5  2  4  7  1  1  3  1  3  7  4  4  0  3  4  2\n",
            "  2  0  4  8  5 12  6  6  2  3  5  2  2  4  1 27  4  1  4  4  9  2  2  6\n",
            "  7  4  0  5  1  2  5  2  1  9  3  7  2  4  1  2  3  6  7  4  7  6  2  5\n",
            "  3  1  6  1  1  8  4  1]\n"
          ],
          "name": "stdout"
        }
      ]
    },
    {
      "cell_type": "code",
      "metadata": {
        "id": "QrIRdE4sKcXU",
        "colab_type": "code",
        "colab": {}
      },
      "source": [
        "from keras.models import Sequential\n",
        "from keras.layers import Dense, Dropout\n",
        "from keras.optimizers import Adam\n",
        "import matplotlib.pyplot as plt"
      ],
      "execution_count": 0,
      "outputs": []
    },
    {
      "cell_type": "code",
      "metadata": {
        "id": "Z2xBrRXEKthI",
        "colab_type": "code",
        "colab": {
          "base_uri": "https://localhost:8080/",
          "height": 580
        },
        "outputId": "c12bf38f-6521-42a6-9317-12a341bc3cf1"
      },
      "source": [
        "mlp_model = Sequential([\n",
        "    Dense(128, activation='relu', input_shape=(QUANTIDADE_PALAVRAS_VIRTUAIS,)),\n",
        "    Dropout(0.45),\n",
        "    Dense(32, activation='relu'),\n",
        "    Dropout(0.2),\n",
        "    Dense(1, activation='sigmoid')\n",
        "])\n",
        "\n",
        "adam = Adam(lr=0.0001)\n",
        "\n",
        "mlp_model.compile(optimizer=adam, loss='binary_crossentropy', metrics=['accuracy'])\n",
        "\n",
        "historico = mlp_model.fit(descritores_treinamento, rotulos_treinamento, batch_size=100, epochs=200, validation_data=(descritores_teste, rotulos_teste), verbose=False)\n",
        "\n",
        "print(\"Acurácia Treinamento\", historico.history['acc'][-1])\n",
        "print(\"Acurácia Validação\", historico.history['val_acc'][-1])\n",
        "\n",
        "#Acurácia\n",
        "\n",
        "plt.plot(historico.history['acc'])\n",
        "plt.plot(historico.history['val_acc'], color='green')\n",
        "plt.legend(['treinamento','validação'])\n",
        "plt.xlabel('Épocas')\n",
        "plt.ylabel('Acurácia')\n",
        "plt.show()\n",
        "# perdas\n",
        "\n",
        "plt.plot(historico.history['loss'])\n",
        "plt.plot(historico.history['val_loss'], color='green')\n",
        "plt.legend(['treinamento','validação'])\n",
        "plt.xlabel('Épocas')\n",
        "plt.ylabel('Perdas')\n",
        "plt.show()"
      ],
      "execution_count": 120,
      "outputs": [
        {
          "output_type": "stream",
          "text": [
            "Acurácia Treinamento 0.8162499964237213\n",
            "Acurácia Validação 0.7099999934434891\n"
          ],
          "name": "stdout"
        },
        {
          "output_type": "display_data",
          "data": {
            "image/png": "[encoded data removed]",
            "text/plain": [
              "<Figure size 432x288 with 1 Axes>"
            ]
          },
          "metadata": {
            "tags": []
          }
        },
        {
          "output_type": "display_data",
          "data": {
            "image/png": "[encoded data removed]",
            "text/plain": [
              "<Figure size 432x288 with 1 Axes>"
            ]
          },
          "metadata": {
            "tags": []
          }
        }
      ]
    }
  ]
}