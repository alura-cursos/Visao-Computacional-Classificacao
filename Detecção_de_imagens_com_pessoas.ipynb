{
  "nbformat": 4,
  "nbformat_minor": 0,
  "metadata": {
    "colab": {
      "name": "Detecção de imagens com pessoas.ipynb",
      "provenance": [],
      "collapsed_sections": []
    },
    "kernelspec": {
      "name": "python3",
      "display_name": "Python 3"
    },
    "accelerator": "GPU"
  },
  "cells": [
    {
      "cell_type": "code",
      "metadata": {
        "id": "jntGh55UIE0E",
        "colab_type": "code",
        "outputId": "f12bbcfe-421e-440c-b9ec-76d41da37f69",
        "colab": {
          "base_uri": "https://localhost:8080/",
          "height": 54
        }
      },
      "source": [
        "from google.colab import drive\n",
        "drive.mount('/content/drive')"
      ],
      "execution_count": 59,
      "outputs": [
        {
          "output_type": "stream",
          "text": [
            "Drive already mounted at /content/drive; to attempt to forcibly remount, call drive.mount(\"/content/drive\", force_remount=True).\n"
          ],
          "name": "stdout"
        }
      ]
    },
    {
      "cell_type": "code",
      "metadata": {
        "id": "CvBbVfp5JetA",
        "colab_type": "code",
        "colab": {}
      },
      "source": [
        "!ln -s /content/drive/My\\ Drive/People_Detection/dadosImagem /content/Aula"
      ],
      "execution_count": 0,
      "outputs": []
    },
    {
      "cell_type": "code",
      "metadata": {
        "id": "gwhX8ugBJ8J8",
        "colab_type": "code",
        "outputId": "6bd39e5f-2401-4895-bc71-e3cae16c25dd",
        "colab": {
          "base_uri": "https://localhost:8080/",
          "height": 35
        }
      },
      "source": [
        "!ls Aula/Teste"
      ],
      "execution_count": 0,
      "outputs": [
        {
          "output_type": "stream",
          "text": [
            "negativos  positivos\n"
          ],
          "name": "stdout"
        }
      ]
    },
    {
      "cell_type": "code",
      "metadata": {
        "id": "OxfVHG8rTQ69",
        "colab_type": "code",
        "outputId": "9aeb3b5a-01b8-4fd3-aff2-ad533269f14b",
        "colab": {
          "base_uri": "https://localhost:8080/",
          "height": 54
        }
      },
      "source": [
        "!pip uninstall opencv-python -y"
      ],
      "execution_count": 0,
      "outputs": [
        {
          "output_type": "stream",
          "text": [
            "Uninstalling opencv-python-3.4.7.28:\n",
            "  Successfully uninstalled opencv-python-3.4.7.28\n"
          ],
          "name": "stdout"
        }
      ]
    },
    {
      "cell_type": "code",
      "metadata": {
        "id": "UPHU0pPVTwv4",
        "colab_type": "code",
        "outputId": "b741422f-e142-479f-cbf8-4f23fe2fae42",
        "colab": {
          "base_uri": "https://localhost:8080/",
          "height": 508
        }
      },
      "source": [
        "!pip install opencv-contrib-python==3.4.2.17 --force-reinstall"
      ],
      "execution_count": 0,
      "outputs": [
        {
          "output_type": "stream",
          "text": [
            "Collecting opencv-contrib-python==3.4.2.17\n",
            "\u001b[?25l  Downloading https://files.pythonhosted.org/packages/61/29/fc60b2de1713aa92946992544329f20ccb5e4ba26290f403e04b7da44105/opencv_contrib_python-3.4.2.17-cp36-cp36m-manylinux1_x86_64.whl (30.6MB)\n",
            "\u001b[K     |████████████████████████████████| 30.6MB 20.2MB/s \n",
            "\u001b[?25hCollecting numpy>=1.11.3\n",
            "\u001b[?25l  Downloading https://files.pythonhosted.org/packages/d2/ab/43e678759326f728de861edbef34b8e2ad1b1490505f20e0d1f0716c3bf4/numpy-1.17.4-cp36-cp36m-manylinux1_x86_64.whl (20.0MB)\n",
            "\u001b[K     |████████████████████████████████| 20.0MB 177kB/s \n",
            "\u001b[31mERROR: tensor2tensor 1.14.1 requires opencv-python, which is not installed.\u001b[0m\n",
            "\u001b[31mERROR: stable-baselines 2.2.1 requires opencv-python, which is not installed.\u001b[0m\n",
            "\u001b[31mERROR: imgaug 0.2.9 requires opencv-python, which is not installed.\u001b[0m\n",
            "\u001b[31mERROR: dopamine-rl 1.0.5 requires opencv-python>=3.4.1.15, which is not installed.\u001b[0m\n",
            "\u001b[31mERROR: albumentations 0.1.12 requires opencv-python, which is not installed.\u001b[0m\n",
            "\u001b[31mERROR: datascience 0.10.6 has requirement folium==0.2.1, but you'll have folium 0.8.3 which is incompatible.\u001b[0m\n",
            "\u001b[31mERROR: albumentations 0.1.12 has requirement imgaug<0.2.7,>=0.2.5, but you'll have imgaug 0.2.9 which is incompatible.\u001b[0m\n",
            "\u001b[?25hInstalling collected packages: numpy, opencv-contrib-python\n",
            "  Found existing installation: numpy 1.17.3\n",
            "    Uninstalling numpy-1.17.3:\n",
            "      Successfully uninstalled numpy-1.17.3\n",
            "  Found existing installation: opencv-contrib-python 3.4.3.18\n",
            "    Uninstalling opencv-contrib-python-3.4.3.18:\n",
            "      Successfully uninstalled opencv-contrib-python-3.4.3.18\n",
            "Successfully installed numpy-1.17.4 opencv-contrib-python-3.4.2.17\n"
          ],
          "name": "stdout"
        },
        {
          "output_type": "display_data",
          "data": {
            "application/vnd.colab-display-data+json": {
              "pip_warning": {
                "packages": [
                  "numpy"
                ]
              }
            }
          },
          "metadata": {
            "tags": []
          }
        }
      ]
    },
    {
      "cell_type": "code",
      "metadata": {
        "id": "esaV6w4vY6eO",
        "colab_type": "code",
        "colab": {}
      },
      "source": [
        "import cv2\n",
        "\n",
        "class Descritor:\n",
        "\n",
        "    @staticmethod\n",
        "    def get_SIFT_descritores(img_caminho):\n",
        "        \n",
        "        LARGURA = 360\n",
        "        ALTURA = 360\n",
        "        \n",
        "        # Ler a imgem\n",
        "        img_teste = cv2.imread(img_caminho, 0)\n",
        "        \n",
        "        #Redimensionar\n",
        "        img_redimensionada = cv2.resize(img_teste, (LARGURA, ALTURA), interpolation=cv2.INTER_CUBIC)\n",
        "        \n",
        "        # Remover ruídos\n",
        "        img_equalizada = cv2.equalizeHist(img_redimensionada)\n",
        "        img_suavizada = cv2.GaussianBlur(img_equalizada, (9,9), 1)\n",
        "        \n",
        "        #Detectar pontos chaves\n",
        "        sift = cv2.xfeatures2d.SIFT_create(nfeatures=512)\n",
        "        pontos_chave = sift.detect(img_suavizada, None)\n",
        "        \n",
        "        pontos_chave, descritores = sift.compute(img_suavizada, pontos_chave)\n",
        "        \n",
        "        return descritores\n",
        "\n",
        "    @staticmethod\n",
        "    def salvar_descritor(descritor, caminho, nome_arquivo):\n",
        "        descritor = descritor.reshape((1,descritor.size))\n",
        "        arquivo = open(os.path.join(caminho, nome_arquivo), 'a')\n",
        "        np.savetxt(arquivo, descritor, delimiter=',', fmt='%i')\n",
        "        arquivo.close()\n",
        "    \n",
        "    @staticmethod\n",
        "    def carregar_descritores(caminho, nome_arquivo='orb_descritor.csv'):\n",
        "        descritores = np.loadtxt(os.path.join(caminho, nome_arquivo), delimiter=',')\n",
        "        print('formato do array de descritores: ', descritores.shape)\n",
        "        return descritores"
      ],
      "execution_count": 0,
      "outputs": []
    },
    {
      "cell_type": "code",
      "metadata": {
        "id": "qdItfKRmZ3mt",
        "colab_type": "code",
        "colab": {}
      },
      "source": [
        "from sklearn.cluster import KMeans\n",
        "from sklearn.neighbors import NearestNeighbors\n",
        "import os\n",
        "import numpy as np"
      ],
      "execution_count": 0,
      "outputs": []
    },
    {
      "cell_type": "code",
      "metadata": {
        "id": "U3ans6_DZ1t-",
        "colab_type": "code",
        "colab": {}
      },
      "source": [
        "QUANTIDADE_PALAVRAS_VIRTUAIS = 128\n",
        "\n",
        "class PacoteDePalavras:\n",
        "    \n",
        "    def gerar_dicionario(self, lista_descritores):\n",
        "        kmeans = KMeans(n_clusters = QUANTIDADE_PALAVRAS_VIRTUAIS)\n",
        "        kmenas = kmeans.fit(lista_descritores)\n",
        "        self.dicionario = kmeans.cluster_centers_\n",
        "        \n",
        "    def histograma_de_frequencia(self, descritor):\n",
        "\n",
        "        try:\n",
        "            algoritmo_knn = NearestNeighbors(n_neighbors = 1)\n",
        "            algoritmo_knn.fit(self.dicionario)\n",
        "            mais_proximos = algoritmo_knn.kneighbors(descritor, return_distance = False).flatten()\n",
        "\n",
        "            histograma_caracteristica = np.histogram(mais_proximos, bins=np.arange(self.dicionario.shape[0]+1))[0]\n",
        "        \n",
        "            return histograma_caracteristica\n",
        "        except AttributeError:\n",
        "            print(\"O atributo dicionario nao foi definido\")\n",
        "            \n",
        "    def salvar_dicionario(self, caminho='', nome_dicionario = 'dicionario.csv'):\n",
        "        try:\n",
        "            np.savetxt(os.path.join(caminho, nome_dicionario), self.dicionario, delimiter=',', fmt='%f')\n",
        "            print(\"Dicionario salvo\")\n",
        "            \n",
        "        except AttributeError:\n",
        "            print(\"Dicionario Vazio\")\n",
        "\n",
        "    def carregar_dicionario(self, caminho='', nome_dicionario = 'dicionario.csv'):\n",
        "\n",
        "        self.dicionario = np.loadtxt(os.path.join(caminho,nome_dicionario), delimiter=',')\n",
        "    "
      ],
      "execution_count": 0,
      "outputs": []
    },
    {
      "cell_type": "code",
      "metadata": {
        "id": "TqQlKPWOoK95",
        "colab_type": "code",
        "colab": {}
      },
      "source": [
        "def arquivo_diretorio(caminho):\n",
        "\n",
        "    for raiz,diretorios,arquivos in os.walk(caminho):\n",
        "        for arquivo in arquivos:\n",
        "            if arquivo.endswith('.png'):\n",
        "                yield arquivo"
      ],
      "execution_count": 0,
      "outputs": []
    },
    {
      "cell_type": "code",
      "metadata": {
        "id": "pQMW0wAAno1I",
        "colab_type": "code",
        "colab": {}
      },
      "source": [
        "DICIONARIO_NOME = 'dicionario.csv'\n",
        "dados_treinamento = ['Aula/Treinamento/positivos/', 'Aula/Treinamento/negativos']\n",
        "\n",
        "# Rotina para criação do dicionario de palavras virtuais\n",
        "\n",
        "descritores = np.empty((0,128), dtype=np.uint8)\n",
        "\n",
        "for caminho in dados_treinamento:\n",
        "\n",
        "    for arquivo in arquivo_diretorio(caminho):\n",
        "        sift_descritor = Descritor.get_SIFT_descritores(os.path.join(caminho,arquivo))\n",
        "        descritores = np.append(descritores, sift_descritor, axis=0)\n",
        "                \n",
        "img_representacao = PacoteDePalavras()\n",
        "img_representacao.gerar_dicionario(descritores)\n",
        "img_representacao.salvar_dicionario('Aula/', DICIONARIO_NOME)"
      ],
      "execution_count": 0,
      "outputs": []
    },
    {
      "cell_type": "code",
      "metadata": {
        "id": "lHdg4pXLxyhO",
        "colab_type": "code",
        "colab": {}
      },
      "source": [
        "DICIONARIO_NOME = 'dicionario.csv'\n",
        "img_representacao = PacoteDePalavras()\n",
        "img_representacao.carregar_dicionario('Aula/', DICIONARIO_NOME)"
      ],
      "execution_count": 0,
      "outputs": []
    },
    {
      "cell_type": "code",
      "metadata": {
        "id": "aY5qaUTVzpTL",
        "colab_type": "code",
        "outputId": "144a50d0-0bae-4c57-c419-4e9fc939947d",
        "colab": {
          "base_uri": "https://localhost:8080/",
          "height": 35
        }
      },
      "source": [
        "NOME_DESCRITOR = 'sift_descritor.csv'\n",
        "\n",
        "for caminho in dados_treinamento:\n",
        "\n",
        "    caminho_descritor = os.path.join(caminho, NOME_DESCRITOR)\n",
        "    if os.path.exists(caminho_descritor):\n",
        "        os.remove(caminho_descritor)\n",
        "\n",
        "    for arquivo in arquivo_diretorio(caminho):\n",
        "        descritor = Descritor.get_SIFT_descritores(os.path.join(caminho, arquivo))\n",
        "        histograma_descritor = img_representacao.histograma_de_frequencia(descritor)\n",
        "        Descritor.salvar_descritor(histograma_descritor, caminho, NOME_DESCRITOR)\n",
        "                \n",
        "print(\"extração de caracteriscas finalizada e descritores salvos!\")"
      ],
      "execution_count": 0,
      "outputs": [
        {
          "output_type": "stream",
          "text": [
            "estração de caracteriscas finalizada e descritores salvos!\n"
          ],
          "name": "stdout"
        }
      ]
    },
    {
      "cell_type": "code",
      "metadata": {
        "id": "MIeD7yCr0apd",
        "colab_type": "code",
        "outputId": "ef23918f-e1bf-4cde-f0d3-c824267c225f",
        "colab": {
          "base_uri": "https://localhost:8080/",
          "height": 52
        }
      },
      "source": [
        "descritores_treinamento = np.empty((0,QUANTIDADE_PALAVRAS_VIRTUAIS))\n",
        "\n",
        "for caminho in dados_treinamento:\n",
        "    descritores_treinamento = np.append(descritores_treinamento, Descritor.carregar_descritores(caminho,NOME_DESCRITOR), axis=0)"
      ],
      "execution_count": 81,
      "outputs": [
        {
          "output_type": "stream",
          "text": [
            "formato do array de descritores:  (400, 128)\n",
            "formato do array de descritores:  (400, 128)\n"
          ],
          "name": "stdout"
        }
      ]
    },
    {
      "cell_type": "code",
      "metadata": {
        "id": "ttq4slhKFPax",
        "colab_type": "code",
        "colab": {}
      },
      "source": [
        "QUANTIDADE_DADOS_TREINAMENTO = 400\n",
        "QUANTIDADE_DADOS_TESTE = 100\n",
        "rotulos_treinamento = np.concatenate((np.ones(QUANTIDADE_DADOS_TREINAMENTO, dtype=np.uint8),np.zeros(QUANTIDADE_DADOS_TREINAMENTO, dtype=np.uint8)))\n",
        "rotulos_teste = np.concatenate((np.ones(QUANTIDADE_DADOS_TESTE, dtype=np.uint8), np.zeros(QUANTIDADE_DADOS_TESTE, dtype=np.uint8)))"
      ],
      "execution_count": 0,
      "outputs": []
    },
    {
      "cell_type": "code",
      "metadata": {
        "id": "7S3OELcDHDIh",
        "colab_type": "code",
        "colab": {
          "base_uri": "https://localhost:8080/",
          "height": 34
        },
        "outputId": "9afc2248-6d8a-4bc3-844f-111097571ca6"
      },
      "source": [
        "dados_teste = ['Aula/Teste/positivos/', 'Aula/Teste/negativos/']\n",
        "\n",
        "descritores_teste = np.empty((0,QUANTIDADE_PALAVRAS_VIRTUAIS), dtype=np.uint8)\n",
        "\n",
        "for caminho in dados_teste:\n",
        "    \n",
        "    for arquivo in arquivo_diretorio(caminho):\n",
        "        img_descritor = Descritor.get_SIFT_descritores(os.path.join(caminho,arquivo))\n",
        "        img_descritor = img_representacao.histograma_de_frequencia(img_descritor)\n",
        "        img_dim_expandida = np.expand_dims(img_descritor, axis=0)\n",
        "        descritores_teste = np.append(descritores_teste, img_dim_expandida, axis=0)\n",
        "print(\"extração descritores teste finalizada\")"
      ],
      "execution_count": 28,
      "outputs": [
        {
          "output_type": "stream",
          "text": [
            "extração descritores teste finalizada\n"
          ],
          "name": "stdout"
        }
      ]
    },
    {
      "cell_type": "code",
      "metadata": {
        "id": "ni39WUewIN1-",
        "colab_type": "code",
        "colab": {
          "base_uri": "https://localhost:8080/",
          "height": 140
        },
        "outputId": "be3dcf8b-f8ca-4ac4-8592-5fc329588afa"
      },
      "source": [
        "print(rotulos_teste[150])\n",
        "print(descritores_teste[150])"
      ],
      "execution_count": 31,
      "outputs": [
        {
          "output_type": "stream",
          "text": [
            "0\n",
            "[ 2  4  5  2  7  7  7 11  2  4  1  3  6  5  1  1  1  1  0  2  4  7  4  2\n",
            "  3  7  4  3  1  4  4  8  1  2  3  2  2  1  2  7  7  5  3  6  6  9  5  6\n",
            "  2  5  8  0  2  4  1  8  5  2  4  7  1  1  3  1  3  7  4  4  0  3  4  2\n",
            "  2  0  4  8  5 12  6  6  2  3  5  2  2  4  1 27  4  1  4  4  9  2  2  6\n",
            "  7  4  0  5  1  2  5  2  1  9  3  7  2  4  1  2  3  6  7  4  7  6  2  5\n",
            "  3  1  6  1  1  8  4  1]\n"
          ],
          "name": "stdout"
        }
      ]
    },
    {
      "cell_type": "code",
      "metadata": {
        "id": "QrIRdE4sKcXU",
        "colab_type": "code",
        "colab": {}
      },
      "source": [
        "from keras.models import Sequential\n",
        "from keras.layers import Dense\n",
        "import matplotlib.pyplot as plt"
      ],
      "execution_count": 0,
      "outputs": []
    },
    {
      "cell_type": "code",
      "metadata": {
        "id": "Z2xBrRXEKthI",
        "colab_type": "code",
        "colab": {
          "base_uri": "https://localhost:8080/",
          "height": 1000
        },
        "outputId": "04a3427d-754b-4343-84ce-ab0060f52a46"
      },
      "source": [
        "mlp_model = Sequential([\n",
        "    Dense(512, activation='relu', input_shape=(QUANTIDADE_PALAVRAS_VIRTUAIS,)),\n",
        "    Dense(128, activation='relu'),\n",
        "    Dense(1, activation='sigmoid')\n",
        "])\n",
        "\n",
        "mlp_model.compile(optimizer='adam', loss='binary_crossentropy', metrics=['accuracy'])\n",
        "\n",
        "historico = mlp_model.fit(descritores_treinamento, rotulos_treinamento, batch_size=100, epochs=100, validation_data=(descritores_teste, rotulos_teste))"
      ],
      "execution_count": 84,
      "outputs": [
        {
          "output_type": "stream",
          "text": [
            "Train on 800 samples, validate on 200 samples\n",
            "Epoch 1/100\n",
            "800/800 [==============================] - 1s 886us/step - loss: 1.6009 - acc: 0.5225 - val_loss: 0.7543 - val_acc: 0.5250\n",
            "Epoch 2/100\n",
            "800/800 [==============================] - 0s 60us/step - loss: 0.6702 - acc: 0.6075 - val_loss: 0.7528 - val_acc: 0.5850\n",
            "Epoch 3/100\n",
            "800/800 [==============================] - 0s 67us/step - loss: 0.5650 - acc: 0.7125 - val_loss: 0.6486 - val_acc: 0.6400\n",
            "Epoch 4/100\n",
            "800/800 [==============================] - 0s 63us/step - loss: 0.4745 - acc: 0.7775 - val_loss: 0.6700 - val_acc: 0.6900\n",
            "Epoch 5/100\n",
            "800/800 [==============================] - 0s 62us/step - loss: 0.4566 - acc: 0.7925 - val_loss: 0.9090 - val_acc: 0.6050\n",
            "Epoch 6/100\n",
            "800/800 [==============================] - 0s 84us/step - loss: 0.4603 - acc: 0.7800 - val_loss: 0.6732 - val_acc: 0.6500\n",
            "Epoch 7/100\n",
            "800/800 [==============================] - 0s 66us/step - loss: 0.3973 - acc: 0.8300 - val_loss: 0.6454 - val_acc: 0.6650\n",
            "Epoch 8/100\n",
            "800/800 [==============================] - 0s 61us/step - loss: 0.3363 - acc: 0.8650 - val_loss: 0.6589 - val_acc: 0.6600\n",
            "Epoch 9/100\n",
            "800/800 [==============================] - 0s 61us/step - loss: 0.2990 - acc: 0.8937 - val_loss: 0.6733 - val_acc: 0.6700\n",
            "Epoch 10/100\n",
            "800/800 [==============================] - 0s 59us/step - loss: 0.2678 - acc: 0.9200 - val_loss: 0.6680 - val_acc: 0.6600\n",
            "Epoch 11/100\n",
            "800/800 [==============================] - 0s 64us/step - loss: 0.2371 - acc: 0.9300 - val_loss: 0.7008 - val_acc: 0.6550\n",
            "Epoch 12/100\n",
            "800/800 [==============================] - 0s 63us/step - loss: 0.2063 - acc: 0.9488 - val_loss: 0.6857 - val_acc: 0.6350\n",
            "Epoch 13/100\n",
            "800/800 [==============================] - 0s 66us/step - loss: 0.1866 - acc: 0.9500 - val_loss: 0.7455 - val_acc: 0.6650\n",
            "Epoch 14/100\n",
            "800/800 [==============================] - 0s 66us/step - loss: 0.1663 - acc: 0.9625 - val_loss: 0.7631 - val_acc: 0.6750\n",
            "Epoch 15/100\n",
            "800/800 [==============================] - 0s 72us/step - loss: 0.1420 - acc: 0.9738 - val_loss: 0.7501 - val_acc: 0.6400\n",
            "Epoch 16/100\n",
            "800/800 [==============================] - 0s 65us/step - loss: 0.1168 - acc: 0.9800 - val_loss: 0.7316 - val_acc: 0.6400\n",
            "Epoch 17/100\n",
            "800/800 [==============================] - 0s 69us/step - loss: 0.1004 - acc: 0.9825 - val_loss: 0.8037 - val_acc: 0.6300\n",
            "Epoch 18/100\n",
            "800/800 [==============================] - 0s 96us/step - loss: 0.0746 - acc: 0.9938 - val_loss: 0.8228 - val_acc: 0.6500\n",
            "Epoch 19/100\n",
            "800/800 [==============================] - 0s 71us/step - loss: 0.0618 - acc: 0.9975 - val_loss: 0.8498 - val_acc: 0.6450\n",
            "Epoch 20/100\n",
            "800/800 [==============================] - 0s 68us/step - loss: 0.0486 - acc: 0.9988 - val_loss: 0.8540 - val_acc: 0.6400\n",
            "Epoch 21/100\n",
            "800/800 [==============================] - 0s 60us/step - loss: 0.0398 - acc: 1.0000 - val_loss: 0.9540 - val_acc: 0.6550\n",
            "Epoch 22/100\n",
            "800/800 [==============================] - 0s 70us/step - loss: 0.0325 - acc: 1.0000 - val_loss: 0.9265 - val_acc: 0.6500\n",
            "Epoch 23/100\n",
            "800/800 [==============================] - 0s 57us/step - loss: 0.0255 - acc: 1.0000 - val_loss: 0.9902 - val_acc: 0.6200\n",
            "Epoch 24/100\n",
            "800/800 [==============================] - 0s 61us/step - loss: 0.0224 - acc: 1.0000 - val_loss: 0.9884 - val_acc: 0.6250\n",
            "Epoch 25/100\n",
            "800/800 [==============================] - 0s 56us/step - loss: 0.0192 - acc: 1.0000 - val_loss: 1.0115 - val_acc: 0.6150\n",
            "Epoch 26/100\n",
            "800/800 [==============================] - 0s 67us/step - loss: 0.0165 - acc: 1.0000 - val_loss: 1.0684 - val_acc: 0.6200\n",
            "Epoch 27/100\n",
            "800/800 [==============================] - 0s 58us/step - loss: 0.0131 - acc: 1.0000 - val_loss: 1.0902 - val_acc: 0.6150\n",
            "Epoch 28/100\n",
            "800/800 [==============================] - 0s 63us/step - loss: 0.0108 - acc: 1.0000 - val_loss: 1.1122 - val_acc: 0.6200\n",
            "Epoch 29/100\n",
            "800/800 [==============================] - 0s 59us/step - loss: 0.0084 - acc: 1.0000 - val_loss: 1.1739 - val_acc: 0.6350\n",
            "Epoch 30/100\n",
            "800/800 [==============================] - 0s 69us/step - loss: 0.0070 - acc: 1.0000 - val_loss: 1.2347 - val_acc: 0.6350\n",
            "Epoch 31/100\n",
            "800/800 [==============================] - 0s 73us/step - loss: 0.0062 - acc: 1.0000 - val_loss: 1.2179 - val_acc: 0.6250\n",
            "Epoch 32/100\n",
            "800/800 [==============================] - 0s 63us/step - loss: 0.0052 - acc: 1.0000 - val_loss: 1.2213 - val_acc: 0.6250\n",
            "Epoch 33/100\n",
            "800/800 [==============================] - 0s 65us/step - loss: 0.0044 - acc: 1.0000 - val_loss: 1.2519 - val_acc: 0.6250\n",
            "Epoch 34/100\n",
            "800/800 [==============================] - 0s 64us/step - loss: 0.0039 - acc: 1.0000 - val_loss: 1.2881 - val_acc: 0.6300\n",
            "Epoch 35/100\n",
            "800/800 [==============================] - 0s 65us/step - loss: 0.0035 - acc: 1.0000 - val_loss: 1.2902 - val_acc: 0.6250\n",
            "Epoch 36/100\n",
            "800/800 [==============================] - 0s 60us/step - loss: 0.0030 - acc: 1.0000 - val_loss: 1.3103 - val_acc: 0.6300\n",
            "Epoch 37/100\n",
            "800/800 [==============================] - 0s 89us/step - loss: 0.0028 - acc: 1.0000 - val_loss: 1.3409 - val_acc: 0.6300\n",
            "Epoch 38/100\n",
            "800/800 [==============================] - 0s 62us/step - loss: 0.0025 - acc: 1.0000 - val_loss: 1.3606 - val_acc: 0.6350\n",
            "Epoch 39/100\n",
            "800/800 [==============================] - 0s 59us/step - loss: 0.0022 - acc: 1.0000 - val_loss: 1.3613 - val_acc: 0.6250\n",
            "Epoch 40/100\n",
            "800/800 [==============================] - 0s 67us/step - loss: 0.0020 - acc: 1.0000 - val_loss: 1.4143 - val_acc: 0.6300\n",
            "Epoch 41/100\n",
            "800/800 [==============================] - 0s 60us/step - loss: 0.0019 - acc: 1.0000 - val_loss: 1.4354 - val_acc: 0.6300\n",
            "Epoch 42/100\n",
            "800/800 [==============================] - 0s 70us/step - loss: 0.0016 - acc: 1.0000 - val_loss: 1.4272 - val_acc: 0.6100\n",
            "Epoch 43/100\n",
            "800/800 [==============================] - 0s 68us/step - loss: 0.0015 - acc: 1.0000 - val_loss: 1.4634 - val_acc: 0.6350\n",
            "Epoch 44/100\n",
            "800/800 [==============================] - 0s 64us/step - loss: 0.0013 - acc: 1.0000 - val_loss: 1.4666 - val_acc: 0.6250\n",
            "Epoch 45/100\n",
            "800/800 [==============================] - 0s 60us/step - loss: 0.0012 - acc: 1.0000 - val_loss: 1.4992 - val_acc: 0.6300\n",
            "Epoch 46/100\n",
            "800/800 [==============================] - 0s 66us/step - loss: 0.0011 - acc: 1.0000 - val_loss: 1.5212 - val_acc: 0.6350\n",
            "Epoch 47/100\n",
            "800/800 [==============================] - 0s 65us/step - loss: 9.9246e-04 - acc: 1.0000 - val_loss: 1.5184 - val_acc: 0.6250\n",
            "Epoch 48/100\n",
            "800/800 [==============================] - 0s 64us/step - loss: 9.0758e-04 - acc: 1.0000 - val_loss: 1.5509 - val_acc: 0.6300\n",
            "Epoch 49/100\n",
            "800/800 [==============================] - 0s 59us/step - loss: 8.3341e-04 - acc: 1.0000 - val_loss: 1.5686 - val_acc: 0.6250\n",
            "Epoch 50/100\n",
            "800/800 [==============================] - 0s 66us/step - loss: 7.7282e-04 - acc: 1.0000 - val_loss: 1.5808 - val_acc: 0.6300\n",
            "Epoch 51/100\n",
            "800/800 [==============================] - 0s 61us/step - loss: 7.1487e-04 - acc: 1.0000 - val_loss: 1.5974 - val_acc: 0.6300\n",
            "Epoch 52/100\n",
            "800/800 [==============================] - 0s 63us/step - loss: 6.6451e-04 - acc: 1.0000 - val_loss: 1.6096 - val_acc: 0.6250\n",
            "Epoch 53/100\n",
            "800/800 [==============================] - 0s 71us/step - loss: 6.1215e-04 - acc: 1.0000 - val_loss: 1.6307 - val_acc: 0.6300\n",
            "Epoch 54/100\n",
            "800/800 [==============================] - 0s 65us/step - loss: 5.6968e-04 - acc: 1.0000 - val_loss: 1.6413 - val_acc: 0.6250\n",
            "Epoch 55/100\n",
            "800/800 [==============================] - 0s 70us/step - loss: 5.3749e-04 - acc: 1.0000 - val_loss: 1.6602 - val_acc: 0.6300\n",
            "Epoch 56/100\n",
            "800/800 [==============================] - 0s 79us/step - loss: 4.9845e-04 - acc: 1.0000 - val_loss: 1.6598 - val_acc: 0.6250\n",
            "Epoch 57/100\n",
            "800/800 [==============================] - 0s 70us/step - loss: 4.7300e-04 - acc: 1.0000 - val_loss: 1.6880 - val_acc: 0.6300\n",
            "Epoch 58/100\n",
            "800/800 [==============================] - 0s 59us/step - loss: 4.4069e-04 - acc: 1.0000 - val_loss: 1.6917 - val_acc: 0.6250\n",
            "Epoch 59/100\n",
            "800/800 [==============================] - 0s 68us/step - loss: 4.0925e-04 - acc: 1.0000 - val_loss: 1.7126 - val_acc: 0.6250\n",
            "Epoch 60/100\n",
            "800/800 [==============================] - 0s 60us/step - loss: 3.8369e-04 - acc: 1.0000 - val_loss: 1.7116 - val_acc: 0.6200\n",
            "Epoch 61/100\n",
            "800/800 [==============================] - 0s 70us/step - loss: 3.6688e-04 - acc: 1.0000 - val_loss: 1.7357 - val_acc: 0.6250\n",
            "Epoch 62/100\n",
            "800/800 [==============================] - 0s 64us/step - loss: 3.5121e-04 - acc: 1.0000 - val_loss: 1.7423 - val_acc: 0.6250\n",
            "Epoch 63/100\n",
            "800/800 [==============================] - 0s 60us/step - loss: 3.3422e-04 - acc: 1.0000 - val_loss: 1.7524 - val_acc: 0.6250\n",
            "Epoch 64/100\n",
            "800/800 [==============================] - 0s 60us/step - loss: 3.1866e-04 - acc: 1.0000 - val_loss: 1.7623 - val_acc: 0.6250\n",
            "Epoch 65/100\n",
            "800/800 [==============================] - 0s 66us/step - loss: 2.9600e-04 - acc: 1.0000 - val_loss: 1.7725 - val_acc: 0.6250\n",
            "Epoch 66/100\n",
            "800/800 [==============================] - 0s 61us/step - loss: 2.8315e-04 - acc: 1.0000 - val_loss: 1.7881 - val_acc: 0.6200\n",
            "Epoch 67/100\n",
            "800/800 [==============================] - 0s 63us/step - loss: 2.5982e-04 - acc: 1.0000 - val_loss: 1.7850 - val_acc: 0.6250\n",
            "Epoch 68/100\n",
            "800/800 [==============================] - 0s 63us/step - loss: 2.4836e-04 - acc: 1.0000 - val_loss: 1.8097 - val_acc: 0.6250\n",
            "Epoch 69/100\n",
            "800/800 [==============================] - 0s 70us/step - loss: 2.3801e-04 - acc: 1.0000 - val_loss: 1.8144 - val_acc: 0.6200\n",
            "Epoch 70/100\n",
            "800/800 [==============================] - 0s 65us/step - loss: 2.2562e-04 - acc: 1.0000 - val_loss: 1.8192 - val_acc: 0.6200\n",
            "Epoch 71/100\n",
            "800/800 [==============================] - 0s 65us/step - loss: 2.1698e-04 - acc: 1.0000 - val_loss: 1.8373 - val_acc: 0.6200\n",
            "Epoch 72/100\n",
            "800/800 [==============================] - 0s 72us/step - loss: 2.0522e-04 - acc: 1.0000 - val_loss: 1.8409 - val_acc: 0.6250\n",
            "Epoch 73/100\n",
            "800/800 [==============================] - 0s 60us/step - loss: 1.9641e-04 - acc: 1.0000 - val_loss: 1.8512 - val_acc: 0.6250\n",
            "Epoch 74/100\n",
            "800/800 [==============================] - 0s 65us/step - loss: 1.8807e-04 - acc: 1.0000 - val_loss: 1.8601 - val_acc: 0.6250\n",
            "Epoch 75/100\n",
            "800/800 [==============================] - 0s 74us/step - loss: 1.8117e-04 - acc: 1.0000 - val_loss: 1.8647 - val_acc: 0.6250\n",
            "Epoch 76/100\n",
            "800/800 [==============================] - 0s 72us/step - loss: 1.7299e-04 - acc: 1.0000 - val_loss: 1.8762 - val_acc: 0.6200\n",
            "Epoch 77/100\n",
            "800/800 [==============================] - 0s 64us/step - loss: 1.6636e-04 - acc: 1.0000 - val_loss: 1.8821 - val_acc: 0.6250\n",
            "Epoch 78/100\n",
            "800/800 [==============================] - 0s 65us/step - loss: 1.5953e-04 - acc: 1.0000 - val_loss: 1.8850 - val_acc: 0.6250\n",
            "Epoch 79/100\n",
            "800/800 [==============================] - 0s 70us/step - loss: 1.5357e-04 - acc: 1.0000 - val_loss: 1.8972 - val_acc: 0.6200\n",
            "Epoch 80/100\n",
            "800/800 [==============================] - 0s 63us/step - loss: 1.4886e-04 - acc: 1.0000 - val_loss: 1.9036 - val_acc: 0.6200\n",
            "Epoch 81/100\n",
            "800/800 [==============================] - 0s 63us/step - loss: 1.4252e-04 - acc: 1.0000 - val_loss: 1.9085 - val_acc: 0.6250\n",
            "Epoch 82/100\n",
            "800/800 [==============================] - 0s 62us/step - loss: 1.3689e-04 - acc: 1.0000 - val_loss: 1.9192 - val_acc: 0.6200\n",
            "Epoch 83/100\n",
            "800/800 [==============================] - 0s 60us/step - loss: 1.3196e-04 - acc: 1.0000 - val_loss: 1.9243 - val_acc: 0.6250\n",
            "Epoch 84/100\n",
            "800/800 [==============================] - 0s 61us/step - loss: 1.2740e-04 - acc: 1.0000 - val_loss: 1.9306 - val_acc: 0.6200\n",
            "Epoch 85/100\n",
            "800/800 [==============================] - 0s 64us/step - loss: 1.2334e-04 - acc: 1.0000 - val_loss: 1.9398 - val_acc: 0.6200\n",
            "Epoch 86/100\n",
            "800/800 [==============================] - 0s 64us/step - loss: 1.1872e-04 - acc: 1.0000 - val_loss: 1.9416 - val_acc: 0.6250\n",
            "Epoch 87/100\n",
            "800/800 [==============================] - 0s 65us/step - loss: 1.1508e-04 - acc: 1.0000 - val_loss: 1.9524 - val_acc: 0.6200\n",
            "Epoch 88/100\n",
            "800/800 [==============================] - 0s 63us/step - loss: 1.1105e-04 - acc: 1.0000 - val_loss: 1.9554 - val_acc: 0.6200\n",
            "Epoch 89/100\n",
            "800/800 [==============================] - 0s 60us/step - loss: 1.0769e-04 - acc: 1.0000 - val_loss: 1.9635 - val_acc: 0.6200\n",
            "Epoch 90/100\n",
            "800/800 [==============================] - 0s 62us/step - loss: 1.0387e-04 - acc: 1.0000 - val_loss: 1.9656 - val_acc: 0.6200\n",
            "Epoch 91/100\n",
            "800/800 [==============================] - 0s 58us/step - loss: 1.0078e-04 - acc: 1.0000 - val_loss: 1.9764 - val_acc: 0.6200\n",
            "Epoch 92/100\n",
            "800/800 [==============================] - 0s 70us/step - loss: 9.7463e-05 - acc: 1.0000 - val_loss: 1.9824 - val_acc: 0.6200\n",
            "Epoch 93/100\n",
            "800/800 [==============================] - 0s 61us/step - loss: 9.4353e-05 - acc: 1.0000 - val_loss: 1.9855 - val_acc: 0.6200\n",
            "Epoch 94/100\n",
            "800/800 [==============================] - 0s 70us/step - loss: 9.1608e-05 - acc: 1.0000 - val_loss: 1.9919 - val_acc: 0.6200\n",
            "Epoch 95/100\n",
            "800/800 [==============================] - 0s 68us/step - loss: 8.9050e-05 - acc: 1.0000 - val_loss: 1.9976 - val_acc: 0.6200\n",
            "Epoch 96/100\n",
            "800/800 [==============================] - 0s 70us/step - loss: 8.6118e-05 - acc: 1.0000 - val_loss: 2.0009 - val_acc: 0.6200\n",
            "Epoch 97/100\n",
            "800/800 [==============================] - 0s 62us/step - loss: 8.3933e-05 - acc: 1.0000 - val_loss: 2.0102 - val_acc: 0.6200\n",
            "Epoch 98/100\n",
            "800/800 [==============================] - 0s 72us/step - loss: 8.2141e-05 - acc: 1.0000 - val_loss: 2.0155 - val_acc: 0.6200\n",
            "Epoch 99/100\n",
            "800/800 [==============================] - 0s 72us/step - loss: 7.9777e-05 - acc: 1.0000 - val_loss: 2.0156 - val_acc: 0.6200\n",
            "Epoch 100/100\n",
            "800/800 [==============================] - 0s 67us/step - loss: 7.6799e-05 - acc: 1.0000 - val_loss: 2.0302 - val_acc: 0.6200\n"
          ],
          "name": "stdout"
        }
      ]
    },
    {
      "cell_type": "code",
      "metadata": {
        "id": "FijrtG52n8Ks",
        "colab_type": "code",
        "colab": {
          "base_uri": "https://localhost:8080/",
          "height": 545
        },
        "outputId": "8caa4489-2728-4f6d-b97e-6f8c11e84701"
      },
      "source": [
        "#Acurácia\n",
        "\n",
        "plt.plot(historico.history['acc'])\n",
        "plt.plot(historico.history['val_acc'], color='green')\n",
        "plt.legend(['treinamento','validação'])\n",
        "plt.xlabel('Épocas')\n",
        "plt.ylabel('Acurácia')\n",
        "plt.show()\n",
        "# perdas\n",
        "\n",
        "plt.plot(historico.history['loss'])\n",
        "plt.plot(historico.history['val_loss'], color='green')\n",
        "plt.legend(['treinamento','validação'])\n",
        "plt.xlabel('Épocas')\n",
        "plt.ylabel('Perdas')\n",
        "plt.show()"
      ],
      "execution_count": 91,
      "outputs": [
        {
          "output_type": "display_data",
          "data": {
            "image/png": "[encoded data removed]",
            "text/plain": [
              "<Figure size 432x288 with 1 Axes>"
            ]
          },
          "metadata": {
            "tags": []
          }
        },
        {
          "output_type": "display_data",
          "data": {
            "image/png": "[encoded data removed]",
            "text/plain": [
              "<Figure size 432x288 with 1 Axes>"
            ]
          },
          "metadata": {
            "tags": []
          }
        }
      ]
    }
  ]
}